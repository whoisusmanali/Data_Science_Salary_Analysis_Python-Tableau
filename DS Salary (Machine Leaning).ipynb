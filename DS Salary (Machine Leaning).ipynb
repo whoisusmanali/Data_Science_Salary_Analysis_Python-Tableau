{
 "cells": [
  {
   "cell_type": "code",
   "execution_count": 12,
   "id": "476f8cc5",
   "metadata": {},
   "outputs": [],
   "source": [
    "from sklearn.model_selection import train_test_split\n",
    "from sklearn import preprocessing\n",
    "from sklearn.linear_model import LinearRegression\n",
    "linear=LinearRegression()\n",
    "from sklearn.preprocessing import StandardScaler"
   ]
  },
  {
   "cell_type": "code",
   "execution_count": 2,
   "id": "428af8c2",
   "metadata": {},
   "outputs": [
    {
     "data": {
      "application/javascript": [
       "\n",
       "        if (window._pyforest_update_imports_cell) { window._pyforest_update_imports_cell('import pandas as pd'); }\n",
       "    "
      ],
      "text/plain": [
       "<IPython.core.display.Javascript object>"
      ]
     },
     "metadata": {},
     "output_type": "display_data"
    }
   ],
   "source": [
    "df=pd.read_csv(\"Data Preprocessed.csv\")"
   ]
  },
  {
   "cell_type": "code",
   "execution_count": 6,
   "id": "8a1f1982",
   "metadata": {},
   "outputs": [
    {
     "data": {
      "text/html": [
       "<div>\n",
       "<style scoped>\n",
       "    .dataframe tbody tr th:only-of-type {\n",
       "        vertical-align: middle;\n",
       "    }\n",
       "\n",
       "    .dataframe tbody tr th {\n",
       "        vertical-align: top;\n",
       "    }\n",
       "\n",
       "    .dataframe thead th {\n",
       "        text-align: right;\n",
       "    }\n",
       "</style>\n",
       "<table border=\"1\" class=\"dataframe\">\n",
       "  <thead>\n",
       "    <tr style=\"text-align: right;\">\n",
       "      <th></th>\n",
       "      <th>50</th>\n",
       "      <th>100</th>\n",
       "      <th>M</th>\n",
       "      <th>S</th>\n",
       "      <th>Executive-level</th>\n",
       "      <th>Mid-Level</th>\n",
       "      <th>Senior-Level</th>\n",
       "      <th>Freelancer</th>\n",
       "      <th>Full-Time</th>\n",
       "      <th>Part-Time</th>\n",
       "      <th>...</th>\n",
       "      <th>Machine Learning Scientist</th>\n",
       "      <th>Marketing Data Analyst</th>\n",
       "      <th>NLP Engineer</th>\n",
       "      <th>Principal Data Analyst</th>\n",
       "      <th>Principal Data Engineer</th>\n",
       "      <th>Principal Data Scientist</th>\n",
       "      <th>Product Data Analyst</th>\n",
       "      <th>Research Scientist</th>\n",
       "      <th>Staff Data Scientist</th>\n",
       "      <th>salary_in_usd</th>\n",
       "    </tr>\n",
       "  </thead>\n",
       "  <tbody>\n",
       "    <tr>\n",
       "      <th>0</th>\n",
       "      <td>0</td>\n",
       "      <td>0</td>\n",
       "      <td>0</td>\n",
       "      <td>0</td>\n",
       "      <td>0</td>\n",
       "      <td>1</td>\n",
       "      <td>0</td>\n",
       "      <td>0</td>\n",
       "      <td>1</td>\n",
       "      <td>0</td>\n",
       "      <td>...</td>\n",
       "      <td>0</td>\n",
       "      <td>0</td>\n",
       "      <td>0</td>\n",
       "      <td>0</td>\n",
       "      <td>0</td>\n",
       "      <td>0</td>\n",
       "      <td>0</td>\n",
       "      <td>0</td>\n",
       "      <td>0</td>\n",
       "      <td>79833</td>\n",
       "    </tr>\n",
       "    <tr>\n",
       "      <th>1</th>\n",
       "      <td>1</td>\n",
       "      <td>0</td>\n",
       "      <td>1</td>\n",
       "      <td>0</td>\n",
       "      <td>0</td>\n",
       "      <td>0</td>\n",
       "      <td>1</td>\n",
       "      <td>0</td>\n",
       "      <td>1</td>\n",
       "      <td>0</td>\n",
       "      <td>...</td>\n",
       "      <td>0</td>\n",
       "      <td>0</td>\n",
       "      <td>0</td>\n",
       "      <td>0</td>\n",
       "      <td>0</td>\n",
       "      <td>0</td>\n",
       "      <td>0</td>\n",
       "      <td>0</td>\n",
       "      <td>0</td>\n",
       "      <td>109024</td>\n",
       "    </tr>\n",
       "    <tr>\n",
       "      <th>2</th>\n",
       "      <td>0</td>\n",
       "      <td>0</td>\n",
       "      <td>0</td>\n",
       "      <td>1</td>\n",
       "      <td>0</td>\n",
       "      <td>1</td>\n",
       "      <td>0</td>\n",
       "      <td>0</td>\n",
       "      <td>1</td>\n",
       "      <td>0</td>\n",
       "      <td>...</td>\n",
       "      <td>0</td>\n",
       "      <td>0</td>\n",
       "      <td>0</td>\n",
       "      <td>0</td>\n",
       "      <td>0</td>\n",
       "      <td>0</td>\n",
       "      <td>1</td>\n",
       "      <td>0</td>\n",
       "      <td>0</td>\n",
       "      <td>20000</td>\n",
       "    </tr>\n",
       "    <tr>\n",
       "      <th>3</th>\n",
       "      <td>1</td>\n",
       "      <td>0</td>\n",
       "      <td>0</td>\n",
       "      <td>0</td>\n",
       "      <td>0</td>\n",
       "      <td>0</td>\n",
       "      <td>1</td>\n",
       "      <td>0</td>\n",
       "      <td>1</td>\n",
       "      <td>0</td>\n",
       "      <td>...</td>\n",
       "      <td>0</td>\n",
       "      <td>0</td>\n",
       "      <td>0</td>\n",
       "      <td>0</td>\n",
       "      <td>0</td>\n",
       "      <td>0</td>\n",
       "      <td>0</td>\n",
       "      <td>0</td>\n",
       "      <td>0</td>\n",
       "      <td>150000</td>\n",
       "    </tr>\n",
       "    <tr>\n",
       "      <th>4</th>\n",
       "      <td>0</td>\n",
       "      <td>1</td>\n",
       "      <td>0</td>\n",
       "      <td>0</td>\n",
       "      <td>0</td>\n",
       "      <td>0</td>\n",
       "      <td>0</td>\n",
       "      <td>0</td>\n",
       "      <td>1</td>\n",
       "      <td>0</td>\n",
       "      <td>...</td>\n",
       "      <td>0</td>\n",
       "      <td>0</td>\n",
       "      <td>0</td>\n",
       "      <td>0</td>\n",
       "      <td>0</td>\n",
       "      <td>0</td>\n",
       "      <td>0</td>\n",
       "      <td>0</td>\n",
       "      <td>0</td>\n",
       "      <td>72000</td>\n",
       "    </tr>\n",
       "  </tbody>\n",
       "</table>\n",
       "<p>5 rows × 59 columns</p>\n",
       "</div>"
      ],
      "text/plain": [
       "   50  100  M  S  Executive-level  Mid-Level  Senior-Level  Freelancer  \\\n",
       "0   0    0  0  0                0          1             0           0   \n",
       "1   1    0  1  0                0          0             1           0   \n",
       "2   0    0  0  1                0          1             0           0   \n",
       "3   1    0  0  0                0          0             1           0   \n",
       "4   0    1  0  0                0          0             0           0   \n",
       "\n",
       "   Full-Time  Part-Time  ...  Machine Learning Scientist  \\\n",
       "0          1          0  ...                           0   \n",
       "1          1          0  ...                           0   \n",
       "2          1          0  ...                           0   \n",
       "3          1          0  ...                           0   \n",
       "4          1          0  ...                           0   \n",
       "\n",
       "   Marketing Data Analyst  NLP Engineer  Principal Data Analyst  \\\n",
       "0                       0             0                       0   \n",
       "1                       0             0                       0   \n",
       "2                       0             0                       0   \n",
       "3                       0             0                       0   \n",
       "4                       0             0                       0   \n",
       "\n",
       "   Principal Data Engineer  Principal Data Scientist  Product Data Analyst  \\\n",
       "0                        0                         0                     0   \n",
       "1                        0                         0                     0   \n",
       "2                        0                         0                     1   \n",
       "3                        0                         0                     0   \n",
       "4                        0                         0                     0   \n",
       "\n",
       "   Research Scientist  Staff Data Scientist  salary_in_usd  \n",
       "0                   0                     0          79833  \n",
       "1                   0                     0         109024  \n",
       "2                   0                     0          20000  \n",
       "3                   0                     0         150000  \n",
       "4                   0                     0          72000  \n",
       "\n",
       "[5 rows x 59 columns]"
      ]
     },
     "execution_count": 6,
     "metadata": {},
     "output_type": "execute_result"
    }
   ],
   "source": [
    "df.head()"
   ]
  },
  {
   "cell_type": "code",
   "execution_count": 5,
   "id": "146ef0d0",
   "metadata": {},
   "outputs": [],
   "source": [
    "df.drop(['Unnamed: 0'],axis=1,inplace=True)"
   ]
  },
  {
   "cell_type": "code",
   "execution_count": 7,
   "id": "f411210d",
   "metadata": {},
   "outputs": [],
   "source": [
    "#Target\n",
    "target=df['salary_in_usd']"
   ]
  },
  {
   "cell_type": "code",
   "execution_count": 8,
   "id": "64e1f2df",
   "metadata": {},
   "outputs": [],
   "source": [
    "#Inputs\n",
    "unscaled_inputs=df.drop(['salary_in_usd'],axis=1)"
   ]
  },
  {
   "cell_type": "code",
   "execution_count": 10,
   "id": "c0548d7f",
   "metadata": {},
   "outputs": [
    {
     "data": {
      "text/plain": [
       "0       79833\n",
       "1      109024\n",
       "2       20000\n",
       "3      150000\n",
       "4       72000\n",
       "        ...  \n",
       "530    154000\n",
       "531    126000\n",
       "532    129000\n",
       "533    150000\n",
       "534    200000\n",
       "Name: salary_in_usd, Length: 535, dtype: int64"
      ]
     },
     "execution_count": 10,
     "metadata": {},
     "output_type": "execute_result"
    }
   ],
   "source": [
    "target"
   ]
  },
  {
   "cell_type": "code",
   "execution_count": 11,
   "id": "3e5c26e6",
   "metadata": {},
   "outputs": [
    {
     "data": {
      "text/html": [
       "<div>\n",
       "<style scoped>\n",
       "    .dataframe tbody tr th:only-of-type {\n",
       "        vertical-align: middle;\n",
       "    }\n",
       "\n",
       "    .dataframe tbody tr th {\n",
       "        vertical-align: top;\n",
       "    }\n",
       "\n",
       "    .dataframe thead th {\n",
       "        text-align: right;\n",
       "    }\n",
       "</style>\n",
       "<table border=\"1\" class=\"dataframe\">\n",
       "  <thead>\n",
       "    <tr style=\"text-align: right;\">\n",
       "      <th></th>\n",
       "      <th>50</th>\n",
       "      <th>100</th>\n",
       "      <th>M</th>\n",
       "      <th>S</th>\n",
       "      <th>Executive-level</th>\n",
       "      <th>Mid-Level</th>\n",
       "      <th>Senior-Level</th>\n",
       "      <th>Freelancer</th>\n",
       "      <th>Full-Time</th>\n",
       "      <th>Part-Time</th>\n",
       "      <th>...</th>\n",
       "      <th>Machine Learning Manager</th>\n",
       "      <th>Machine Learning Scientist</th>\n",
       "      <th>Marketing Data Analyst</th>\n",
       "      <th>NLP Engineer</th>\n",
       "      <th>Principal Data Analyst</th>\n",
       "      <th>Principal Data Engineer</th>\n",
       "      <th>Principal Data Scientist</th>\n",
       "      <th>Product Data Analyst</th>\n",
       "      <th>Research Scientist</th>\n",
       "      <th>Staff Data Scientist</th>\n",
       "    </tr>\n",
       "  </thead>\n",
       "  <tbody>\n",
       "    <tr>\n",
       "      <th>0</th>\n",
       "      <td>0</td>\n",
       "      <td>0</td>\n",
       "      <td>0</td>\n",
       "      <td>0</td>\n",
       "      <td>0</td>\n",
       "      <td>1</td>\n",
       "      <td>0</td>\n",
       "      <td>0</td>\n",
       "      <td>1</td>\n",
       "      <td>0</td>\n",
       "      <td>...</td>\n",
       "      <td>0</td>\n",
       "      <td>0</td>\n",
       "      <td>0</td>\n",
       "      <td>0</td>\n",
       "      <td>0</td>\n",
       "      <td>0</td>\n",
       "      <td>0</td>\n",
       "      <td>0</td>\n",
       "      <td>0</td>\n",
       "      <td>0</td>\n",
       "    </tr>\n",
       "    <tr>\n",
       "      <th>1</th>\n",
       "      <td>1</td>\n",
       "      <td>0</td>\n",
       "      <td>1</td>\n",
       "      <td>0</td>\n",
       "      <td>0</td>\n",
       "      <td>0</td>\n",
       "      <td>1</td>\n",
       "      <td>0</td>\n",
       "      <td>1</td>\n",
       "      <td>0</td>\n",
       "      <td>...</td>\n",
       "      <td>0</td>\n",
       "      <td>0</td>\n",
       "      <td>0</td>\n",
       "      <td>0</td>\n",
       "      <td>0</td>\n",
       "      <td>0</td>\n",
       "      <td>0</td>\n",
       "      <td>0</td>\n",
       "      <td>0</td>\n",
       "      <td>0</td>\n",
       "    </tr>\n",
       "    <tr>\n",
       "      <th>2</th>\n",
       "      <td>0</td>\n",
       "      <td>0</td>\n",
       "      <td>0</td>\n",
       "      <td>1</td>\n",
       "      <td>0</td>\n",
       "      <td>1</td>\n",
       "      <td>0</td>\n",
       "      <td>0</td>\n",
       "      <td>1</td>\n",
       "      <td>0</td>\n",
       "      <td>...</td>\n",
       "      <td>0</td>\n",
       "      <td>0</td>\n",
       "      <td>0</td>\n",
       "      <td>0</td>\n",
       "      <td>0</td>\n",
       "      <td>0</td>\n",
       "      <td>0</td>\n",
       "      <td>1</td>\n",
       "      <td>0</td>\n",
       "      <td>0</td>\n",
       "    </tr>\n",
       "    <tr>\n",
       "      <th>3</th>\n",
       "      <td>1</td>\n",
       "      <td>0</td>\n",
       "      <td>0</td>\n",
       "      <td>0</td>\n",
       "      <td>0</td>\n",
       "      <td>0</td>\n",
       "      <td>1</td>\n",
       "      <td>0</td>\n",
       "      <td>1</td>\n",
       "      <td>0</td>\n",
       "      <td>...</td>\n",
       "      <td>0</td>\n",
       "      <td>0</td>\n",
       "      <td>0</td>\n",
       "      <td>0</td>\n",
       "      <td>0</td>\n",
       "      <td>0</td>\n",
       "      <td>0</td>\n",
       "      <td>0</td>\n",
       "      <td>0</td>\n",
       "      <td>0</td>\n",
       "    </tr>\n",
       "    <tr>\n",
       "      <th>4</th>\n",
       "      <td>0</td>\n",
       "      <td>1</td>\n",
       "      <td>0</td>\n",
       "      <td>0</td>\n",
       "      <td>0</td>\n",
       "      <td>0</td>\n",
       "      <td>0</td>\n",
       "      <td>0</td>\n",
       "      <td>1</td>\n",
       "      <td>0</td>\n",
       "      <td>...</td>\n",
       "      <td>0</td>\n",
       "      <td>0</td>\n",
       "      <td>0</td>\n",
       "      <td>0</td>\n",
       "      <td>0</td>\n",
       "      <td>0</td>\n",
       "      <td>0</td>\n",
       "      <td>0</td>\n",
       "      <td>0</td>\n",
       "      <td>0</td>\n",
       "    </tr>\n",
       "  </tbody>\n",
       "</table>\n",
       "<p>5 rows × 58 columns</p>\n",
       "</div>"
      ],
      "text/plain": [
       "   50  100  M  S  Executive-level  Mid-Level  Senior-Level  Freelancer  \\\n",
       "0   0    0  0  0                0          1             0           0   \n",
       "1   1    0  1  0                0          0             1           0   \n",
       "2   0    0  0  1                0          1             0           0   \n",
       "3   1    0  0  0                0          0             1           0   \n",
       "4   0    1  0  0                0          0             0           0   \n",
       "\n",
       "   Full-Time  Part-Time  ...  Machine Learning Manager  \\\n",
       "0          1          0  ...                         0   \n",
       "1          1          0  ...                         0   \n",
       "2          1          0  ...                         0   \n",
       "3          1          0  ...                         0   \n",
       "4          1          0  ...                         0   \n",
       "\n",
       "   Machine Learning Scientist  Marketing Data Analyst  NLP Engineer  \\\n",
       "0                           0                       0             0   \n",
       "1                           0                       0             0   \n",
       "2                           0                       0             0   \n",
       "3                           0                       0             0   \n",
       "4                           0                       0             0   \n",
       "\n",
       "   Principal Data Analyst  Principal Data Engineer  Principal Data Scientist  \\\n",
       "0                       0                        0                         0   \n",
       "1                       0                        0                         0   \n",
       "2                       0                        0                         0   \n",
       "3                       0                        0                         0   \n",
       "4                       0                        0                         0   \n",
       "\n",
       "   Product Data Analyst  Research Scientist  Staff Data Scientist  \n",
       "0                     0                   0                     0  \n",
       "1                     0                   0                     0  \n",
       "2                     1                   0                     0  \n",
       "3                     0                   0                     0  \n",
       "4                     0                   0                     0  \n",
       "\n",
       "[5 rows x 58 columns]"
      ]
     },
     "execution_count": 11,
     "metadata": {},
     "output_type": "execute_result"
    }
   ],
   "source": [
    "unscaled_inputs.head()"
   ]
  },
  {
   "cell_type": "code",
   "execution_count": 13,
   "id": "f824ee71",
   "metadata": {},
   "outputs": [],
   "source": [
    "#Standarlise the inputs\n",
    "scaler=StandardScaler()"
   ]
  },
  {
   "cell_type": "code",
   "execution_count": 14,
   "id": "03a30f13",
   "metadata": {},
   "outputs": [
    {
     "data": {
      "text/html": [
       "<style>#sk-container-id-1 {color: black;background-color: white;}#sk-container-id-1 pre{padding: 0;}#sk-container-id-1 div.sk-toggleable {background-color: white;}#sk-container-id-1 label.sk-toggleable__label {cursor: pointer;display: block;width: 100%;margin-bottom: 0;padding: 0.3em;box-sizing: border-box;text-align: center;}#sk-container-id-1 label.sk-toggleable__label-arrow:before {content: \"▸\";float: left;margin-right: 0.25em;color: #696969;}#sk-container-id-1 label.sk-toggleable__label-arrow:hover:before {color: black;}#sk-container-id-1 div.sk-estimator:hover label.sk-toggleable__label-arrow:before {color: black;}#sk-container-id-1 div.sk-toggleable__content {max-height: 0;max-width: 0;overflow: hidden;text-align: left;background-color: #f0f8ff;}#sk-container-id-1 div.sk-toggleable__content pre {margin: 0.2em;color: black;border-radius: 0.25em;background-color: #f0f8ff;}#sk-container-id-1 input.sk-toggleable__control:checked~div.sk-toggleable__content {max-height: 200px;max-width: 100%;overflow: auto;}#sk-container-id-1 input.sk-toggleable__control:checked~label.sk-toggleable__label-arrow:before {content: \"▾\";}#sk-container-id-1 div.sk-estimator input.sk-toggleable__control:checked~label.sk-toggleable__label {background-color: #d4ebff;}#sk-container-id-1 div.sk-label input.sk-toggleable__control:checked~label.sk-toggleable__label {background-color: #d4ebff;}#sk-container-id-1 input.sk-hidden--visually {border: 0;clip: rect(1px 1px 1px 1px);clip: rect(1px, 1px, 1px, 1px);height: 1px;margin: -1px;overflow: hidden;padding: 0;position: absolute;width: 1px;}#sk-container-id-1 div.sk-estimator {font-family: monospace;background-color: #f0f8ff;border: 1px dotted black;border-radius: 0.25em;box-sizing: border-box;margin-bottom: 0.5em;}#sk-container-id-1 div.sk-estimator:hover {background-color: #d4ebff;}#sk-container-id-1 div.sk-parallel-item::after {content: \"\";width: 100%;border-bottom: 1px solid gray;flex-grow: 1;}#sk-container-id-1 div.sk-label:hover label.sk-toggleable__label {background-color: #d4ebff;}#sk-container-id-1 div.sk-serial::before {content: \"\";position: absolute;border-left: 1px solid gray;box-sizing: border-box;top: 0;bottom: 0;left: 50%;z-index: 0;}#sk-container-id-1 div.sk-serial {display: flex;flex-direction: column;align-items: center;background-color: white;padding-right: 0.2em;padding-left: 0.2em;position: relative;}#sk-container-id-1 div.sk-item {position: relative;z-index: 1;}#sk-container-id-1 div.sk-parallel {display: flex;align-items: stretch;justify-content: center;background-color: white;position: relative;}#sk-container-id-1 div.sk-item::before, #sk-container-id-1 div.sk-parallel-item::before {content: \"\";position: absolute;border-left: 1px solid gray;box-sizing: border-box;top: 0;bottom: 0;left: 50%;z-index: -1;}#sk-container-id-1 div.sk-parallel-item {display: flex;flex-direction: column;z-index: 1;position: relative;background-color: white;}#sk-container-id-1 div.sk-parallel-item:first-child::after {align-self: flex-end;width: 50%;}#sk-container-id-1 div.sk-parallel-item:last-child::after {align-self: flex-start;width: 50%;}#sk-container-id-1 div.sk-parallel-item:only-child::after {width: 0;}#sk-container-id-1 div.sk-dashed-wrapped {border: 1px dashed gray;margin: 0 0.4em 0.5em 0.4em;box-sizing: border-box;padding-bottom: 0.4em;background-color: white;}#sk-container-id-1 div.sk-label label {font-family: monospace;font-weight: bold;display: inline-block;line-height: 1.2em;}#sk-container-id-1 div.sk-label-container {text-align: center;}#sk-container-id-1 div.sk-container {/* jupyter's `normalize.less` sets `[hidden] { display: none; }` but bootstrap.min.css set `[hidden] { display: none !important; }` so we also need the `!important` here to be able to override the default hidden behavior on the sphinx rendered scikit-learn.org. See: https://github.com/scikit-learn/scikit-learn/issues/21755 */display: inline-block !important;position: relative;}#sk-container-id-1 div.sk-text-repr-fallback {display: none;}</style><div id=\"sk-container-id-1\" class=\"sk-top-container\"><div class=\"sk-text-repr-fallback\"><pre>StandardScaler()</pre><b>In a Jupyter environment, please rerun this cell to show the HTML representation or trust the notebook. <br />On GitHub, the HTML representation is unable to render, please try loading this page with nbviewer.org.</b></div><div class=\"sk-container\" hidden><div class=\"sk-item\"><div class=\"sk-estimator sk-toggleable\"><input class=\"sk-toggleable__control sk-hidden--visually\" id=\"sk-estimator-id-1\" type=\"checkbox\" checked><label for=\"sk-estimator-id-1\" class=\"sk-toggleable__label sk-toggleable__label-arrow\">StandardScaler</label><div class=\"sk-toggleable__content\"><pre>StandardScaler()</pre></div></div></div></div></div>"
      ],
      "text/plain": [
       "StandardScaler()"
      ]
     },
     "execution_count": 14,
     "metadata": {},
     "output_type": "execute_result"
    }
   ],
   "source": [
    "scaler.fit(unscaled_inputs)"
   ]
  },
  {
   "cell_type": "code",
   "execution_count": 15,
   "id": "937b4238",
   "metadata": {},
   "outputs": [],
   "source": [
    "scaler_inputs=scaler.transform(unscaled_inputs)"
   ]
  },
  {
   "cell_type": "code",
   "execution_count": 16,
   "id": "9cde885e",
   "metadata": {},
   "outputs": [
    {
     "data": {
      "text/plain": [
       "array([[-0.46466019, -1.24403338, -1.05180759, ..., -0.06125639,\n",
       "        -0.16984156, -0.04327423],\n",
       "       [ 2.15211035, -1.24403338,  0.95074423, ..., -0.06125639,\n",
       "        -0.16984156, -0.04327423],\n",
       "       [-0.46466019, -1.24403338, -1.05180759, ..., 16.32482772,\n",
       "        -0.16984156, -0.04327423],\n",
       "       ...,\n",
       "       [-0.46466019, -1.24403338,  0.95074423, ..., -0.06125639,\n",
       "        -0.16984156, -0.04327423],\n",
       "       [-0.46466019,  0.80383695,  0.95074423, ..., -0.06125639,\n",
       "        -0.16984156, -0.04327423],\n",
       "       [-0.46466019,  0.80383695, -1.05180759, ..., -0.06125639,\n",
       "        -0.16984156, -0.04327423]])"
      ]
     },
     "execution_count": 16,
     "metadata": {},
     "output_type": "execute_result"
    }
   ],
   "source": [
    "scaler_inputs"
   ]
  },
  {
   "cell_type": "code",
   "execution_count": 17,
   "id": "db5302d4",
   "metadata": {},
   "outputs": [
    {
     "data": {
      "text/plain": [
       "9.560154436991357e-18"
      ]
     },
     "execution_count": 17,
     "metadata": {},
     "output_type": "execute_result"
    }
   ],
   "source": [
    "scaler_inputs.mean()"
   ]
  },
  {
   "cell_type": "code",
   "execution_count": 18,
   "id": "ce8da6da",
   "metadata": {},
   "outputs": [
    {
     "data": {
      "text/plain": [
       "1.0"
      ]
     },
     "execution_count": 18,
     "metadata": {},
     "output_type": "execute_result"
    }
   ],
   "source": [
    "scaler_inputs.std()"
   ]
  },
  {
   "cell_type": "code",
   "execution_count": 19,
   "id": "3d774932",
   "metadata": {},
   "outputs": [
    {
     "data": {
      "text/plain": [
       "[array([[-0.46466019, -1.24403338, -1.05180759, ..., -0.06125639,\n",
       "         -0.16984156, -0.04327423],\n",
       "        [-0.46466019,  0.80383695, -1.05180759, ..., -0.06125639,\n",
       "         -0.16984156, -0.04327423],\n",
       "        [-0.46466019, -1.24403338,  0.95074423, ..., -0.06125639,\n",
       "         -0.16984156, -0.04327423],\n",
       "        ...,\n",
       "        [-0.46466019,  0.80383695,  0.95074423, ..., -0.06125639,\n",
       "         -0.16984156, -0.04327423],\n",
       "        [-0.46466019,  0.80383695,  0.95074423, ..., -0.06125639,\n",
       "         -0.16984156, -0.04327423],\n",
       "        [-0.46466019, -1.24403338,  0.95074423, ..., -0.06125639,\n",
       "         -0.16984156, -0.04327423]]),\n",
       " array([[-0.46466019, -1.24403338,  0.95074423, ..., -0.06125639,\n",
       "         -0.16984156, -0.04327423],\n",
       "        [-0.46466019, -1.24403338, -1.05180759, ..., -0.06125639,\n",
       "         -0.16984156, -0.04327423],\n",
       "        [-0.46466019,  0.80383695,  0.95074423, ..., -0.06125639,\n",
       "         -0.16984156, -0.04327423],\n",
       "        ...,\n",
       "        [ 2.15211035, -1.24403338, -1.05180759, ..., -0.06125639,\n",
       "         -0.16984156, -0.04327423],\n",
       "        [-0.46466019,  0.80383695, -1.05180759, ..., -0.06125639,\n",
       "         -0.16984156, -0.04327423],\n",
       "        [-0.46466019, -1.24403338,  0.95074423, ..., -0.06125639,\n",
       "         -0.16984156, -0.04327423]]),\n",
       " 301    120000\n",
       " 458     75000\n",
       " 366     81666\n",
       " 267    135000\n",
       " 385     82900\n",
       "         ...  \n",
       " 411    105000\n",
       " 487    206699\n",
       " 330     90700\n",
       " 169      4000\n",
       " 340    164996\n",
       " Name: salary_in_usd, Length: 401, dtype: int64,\n",
       " 325     78526\n",
       " 0       79833\n",
       " 509    210000\n",
       " 470    122346\n",
       " 264    102839\n",
       "         ...  \n",
       " 196     66022\n",
       " 368     98158\n",
       " 32      74130\n",
       " 147    125000\n",
       " 479     75000\n",
       " Name: salary_in_usd, Length: 134, dtype: int64]"
      ]
     },
     "execution_count": 19,
     "metadata": {},
     "output_type": "execute_result"
    }
   ],
   "source": [
    "#Spliting the scaler_inputs and target into train and test\n",
    "train_test_split(scaler_inputs,target)"
   ]
  },
  {
   "cell_type": "code",
   "execution_count": 23,
   "id": "cf7c3a94",
   "metadata": {},
   "outputs": [],
   "source": [
    "x_train,x_test,y_train,y_test=train_test_split(scaler_inputs,target,train_size=0.8,random_state=20)"
   ]
  },
  {
   "cell_type": "code",
   "execution_count": 24,
   "id": "7aade56a",
   "metadata": {},
   "outputs": [
    {
     "name": "stdout",
     "output_type": "stream",
     "text": [
      "(428, 58) (428,)\n",
      "(107, 58) (107,)\n"
     ]
    }
   ],
   "source": [
    "print(x_train.shape,y_train.shape)\n",
    "print(x_test.shape,y_test.shape)"
   ]
  },
  {
   "cell_type": "code",
   "execution_count": 25,
   "id": "04e25fa3",
   "metadata": {},
   "outputs": [
    {
     "data": {
      "text/html": [
       "<style>#sk-container-id-2 {color: black;background-color: white;}#sk-container-id-2 pre{padding: 0;}#sk-container-id-2 div.sk-toggleable {background-color: white;}#sk-container-id-2 label.sk-toggleable__label {cursor: pointer;display: block;width: 100%;margin-bottom: 0;padding: 0.3em;box-sizing: border-box;text-align: center;}#sk-container-id-2 label.sk-toggleable__label-arrow:before {content: \"▸\";float: left;margin-right: 0.25em;color: #696969;}#sk-container-id-2 label.sk-toggleable__label-arrow:hover:before {color: black;}#sk-container-id-2 div.sk-estimator:hover label.sk-toggleable__label-arrow:before {color: black;}#sk-container-id-2 div.sk-toggleable__content {max-height: 0;max-width: 0;overflow: hidden;text-align: left;background-color: #f0f8ff;}#sk-container-id-2 div.sk-toggleable__content pre {margin: 0.2em;color: black;border-radius: 0.25em;background-color: #f0f8ff;}#sk-container-id-2 input.sk-toggleable__control:checked~div.sk-toggleable__content {max-height: 200px;max-width: 100%;overflow: auto;}#sk-container-id-2 input.sk-toggleable__control:checked~label.sk-toggleable__label-arrow:before {content: \"▾\";}#sk-container-id-2 div.sk-estimator input.sk-toggleable__control:checked~label.sk-toggleable__label {background-color: #d4ebff;}#sk-container-id-2 div.sk-label input.sk-toggleable__control:checked~label.sk-toggleable__label {background-color: #d4ebff;}#sk-container-id-2 input.sk-hidden--visually {border: 0;clip: rect(1px 1px 1px 1px);clip: rect(1px, 1px, 1px, 1px);height: 1px;margin: -1px;overflow: hidden;padding: 0;position: absolute;width: 1px;}#sk-container-id-2 div.sk-estimator {font-family: monospace;background-color: #f0f8ff;border: 1px dotted black;border-radius: 0.25em;box-sizing: border-box;margin-bottom: 0.5em;}#sk-container-id-2 div.sk-estimator:hover {background-color: #d4ebff;}#sk-container-id-2 div.sk-parallel-item::after {content: \"\";width: 100%;border-bottom: 1px solid gray;flex-grow: 1;}#sk-container-id-2 div.sk-label:hover label.sk-toggleable__label {background-color: #d4ebff;}#sk-container-id-2 div.sk-serial::before {content: \"\";position: absolute;border-left: 1px solid gray;box-sizing: border-box;top: 0;bottom: 0;left: 50%;z-index: 0;}#sk-container-id-2 div.sk-serial {display: flex;flex-direction: column;align-items: center;background-color: white;padding-right: 0.2em;padding-left: 0.2em;position: relative;}#sk-container-id-2 div.sk-item {position: relative;z-index: 1;}#sk-container-id-2 div.sk-parallel {display: flex;align-items: stretch;justify-content: center;background-color: white;position: relative;}#sk-container-id-2 div.sk-item::before, #sk-container-id-2 div.sk-parallel-item::before {content: \"\";position: absolute;border-left: 1px solid gray;box-sizing: border-box;top: 0;bottom: 0;left: 50%;z-index: -1;}#sk-container-id-2 div.sk-parallel-item {display: flex;flex-direction: column;z-index: 1;position: relative;background-color: white;}#sk-container-id-2 div.sk-parallel-item:first-child::after {align-self: flex-end;width: 50%;}#sk-container-id-2 div.sk-parallel-item:last-child::after {align-self: flex-start;width: 50%;}#sk-container-id-2 div.sk-parallel-item:only-child::after {width: 0;}#sk-container-id-2 div.sk-dashed-wrapped {border: 1px dashed gray;margin: 0 0.4em 0.5em 0.4em;box-sizing: border-box;padding-bottom: 0.4em;background-color: white;}#sk-container-id-2 div.sk-label label {font-family: monospace;font-weight: bold;display: inline-block;line-height: 1.2em;}#sk-container-id-2 div.sk-label-container {text-align: center;}#sk-container-id-2 div.sk-container {/* jupyter's `normalize.less` sets `[hidden] { display: none; }` but bootstrap.min.css set `[hidden] { display: none !important; }` so we also need the `!important` here to be able to override the default hidden behavior on the sphinx rendered scikit-learn.org. See: https://github.com/scikit-learn/scikit-learn/issues/21755 */display: inline-block !important;position: relative;}#sk-container-id-2 div.sk-text-repr-fallback {display: none;}</style><div id=\"sk-container-id-2\" class=\"sk-top-container\"><div class=\"sk-text-repr-fallback\"><pre>LinearRegression()</pre><b>In a Jupyter environment, please rerun this cell to show the HTML representation or trust the notebook. <br />On GitHub, the HTML representation is unable to render, please try loading this page with nbviewer.org.</b></div><div class=\"sk-container\" hidden><div class=\"sk-item\"><div class=\"sk-estimator sk-toggleable\"><input class=\"sk-toggleable__control sk-hidden--visually\" id=\"sk-estimator-id-2\" type=\"checkbox\" checked><label for=\"sk-estimator-id-2\" class=\"sk-toggleable__label sk-toggleable__label-arrow\">LinearRegression</label><div class=\"sk-toggleable__content\"><pre>LinearRegression()</pre></div></div></div></div></div>"
      ],
      "text/plain": [
       "LinearRegression()"
      ]
     },
     "execution_count": 25,
     "metadata": {},
     "output_type": "execute_result"
    }
   ],
   "source": [
    "linear.fit(x_train,y_train)"
   ]
  },
  {
   "cell_type": "code",
   "execution_count": 26,
   "id": "1f8fef94",
   "metadata": {},
   "outputs": [
    {
     "data": {
      "text/plain": [
       "0.45386666665181097"
      ]
     },
     "execution_count": 26,
     "metadata": {},
     "output_type": "execute_result"
    }
   ],
   "source": [
    "linear.score(x_train,y_train)"
   ]
  },
  {
   "cell_type": "code",
   "execution_count": 27,
   "id": "8280458d",
   "metadata": {},
   "outputs": [
    {
     "data": {
      "text/plain": [
       "array([-7.47944242e+03,  1.26216250e+03, -1.43029577e+03, -8.76475241e+03,\n",
       "        1.05920892e+04,  9.66674662e+03,  3.04519807e+04, -5.86518919e+03,\n",
       "       -4.79265808e+03, -4.84578481e+03, -2.76040800e+16, -2.09259196e+16,\n",
       "       -2.09259196e+16, -1.81394343e+16, -2.55806018e+16, -1.04924746e+16,\n",
       "       -2.94820445e+16, -2.33738489e+16, -1.48246995e+16, -2.55806018e+16,\n",
       "       -1.81394343e+16, -8.75111364e+16, -2.09259196e+16, -2.76040800e+16,\n",
       "       -3.28993220e+16, -1.00720142e+17, -2.33738489e+16, -2.76040800e+16,\n",
       "       -1.81394343e+16, -3.28993220e+16, -1.03075209e+17, -1.04924746e+16,\n",
       "       -1.48246995e+16, -2.33738489e+16, -1.04924746e+16, -1.04924746e+16,\n",
       "       -1.04924746e+16, -1.81394343e+16, -1.81394343e+16, -1.04924746e+16,\n",
       "       -1.81394343e+16, -2.33738489e+16, -1.81394343e+16, -1.04924746e+16,\n",
       "       -2.09259196e+16, -1.81394343e+16, -6.23989510e+16, -1.81394343e+16,\n",
       "       -1.04924746e+16, -2.33738489e+16, -1.04924746e+16, -1.04924746e+16,\n",
       "       -1.48246995e+16, -1.48246995e+16, -2.33738489e+16, -1.48246995e+16,\n",
       "       -4.01009441e+16, -1.04924746e+16])"
      ]
     },
     "execution_count": 27,
     "metadata": {},
     "output_type": "execute_result"
    }
   ],
   "source": [
    "linear.coef_"
   ]
  },
  {
   "cell_type": "code",
   "execution_count": 28,
   "id": "5f4f6d0e",
   "metadata": {},
   "outputs": [
    {
     "data": {
      "text/plain": [
       "454053780708596.8"
      ]
     },
     "execution_count": 28,
     "metadata": {},
     "output_type": "execute_result"
    }
   ],
   "source": [
    "linear.intercept_"
   ]
  },
  {
   "cell_type": "code",
   "execution_count": null,
   "id": "585af7f0",
   "metadata": {},
   "outputs": [],
   "source": []
  }
 ],
 "metadata": {
  "kernelspec": {
   "display_name": "Python 3",
   "language": "python",
   "name": "python3"
  },
  "language_info": {
   "codemirror_mode": {
    "name": "ipython",
    "version": 3
   },
   "file_extension": ".py",
   "mimetype": "text/x-python",
   "name": "python",
   "nbconvert_exporter": "python",
   "pygments_lexer": "ipython3",
   "version": "3.8.8"
  }
 },
 "nbformat": 4,
 "nbformat_minor": 5
}
